{
 "cells": [
  {
   "cell_type": "code",
   "execution_count": 1,
   "id": "2c2ac530-04ae-4245-87a2-8bd69a7308d4",
   "metadata": {
    "tags": []
   },
   "outputs": [],
   "source": [
    "def get_my_chosun_name(family_name,month,day):\n",
    "    x = ['쌍', '쇠', '복', '돌', '팽', '육', '쌍', '개', '칠', '갑', '삼', '방']\n",
    "    y = ['봉', '구', '욕', '포', '똥', '삼', '식', '석', '놈', '님', '년', '돌', \n",
    "         '단', '득', '방', '질', '장', '걸', '래', '룡', '동', '순', '자', '박', '창', '언', '것', '포', '만', '단', '국']\n",
    "    \n",
    "    print('당신의 조선시대 이름은 ' + family_name + x[month-1] + y[day-1] + ' 입니다.')"
   ]
  },
  {
   "cell_type": "code",
   "execution_count": 2,
   "id": "d935ce93-934c-4d8f-a145-8edb989ded62",
   "metadata": {
    "tags": []
   },
   "outputs": [
    {
     "name": "stdout",
     "output_type": "stream",
     "text": [
      "당신의 조선시대 이름은 안칠걸 입니다.\n"
     ]
    }
   ],
   "source": [
    "get_my_chosun_name('안',9,18)"
   ]
  }
 ],
 "metadata": {
  "kernelspec": {
   "display_name": "Python 3 (ipykernel)",
   "language": "python",
   "name": "python3"
  },
  "language_info": {
   "codemirror_mode": {
    "name": "ipython",
    "version": 3
   },
   "file_extension": ".py",
   "mimetype": "text/x-python",
   "name": "python",
   "nbconvert_exporter": "python",
   "pygments_lexer": "ipython3",
   "version": "3.11.4"
  }
 },
 "nbformat": 4,
 "nbformat_minor": 5
}
